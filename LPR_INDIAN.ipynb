{
  "nbformat": 4,
  "nbformat_minor": 0,
  "metadata": {
    "colab": {
      "name": "LPR_INDIAN.ipynb",
      "provenance": [],
      "collapsed_sections": [],
      "include_colab_link": true
    },
    "kernelspec": {
      "name": "python3",
      "display_name": "Python 3"
    }
  },
  "cells": [
    {
      "cell_type": "markdown",
      "metadata": {
        "id": "view-in-github",
        "colab_type": "text"
      },
      "source": [
        "<a href=\"https://colab.research.google.com/github/swati-malik/LPR_INDIAN/blob/master/LPR_INDIAN.ipynb\" target=\"_parent\"><img src=\"https://colab.research.google.com/assets/colab-badge.svg\" alt=\"Open In Colab\"/></a>"
      ]
    },
    {
      "cell_type": "code",
      "metadata": {
        "id": "asw2sBf1en9t",
        "colab_type": "code",
        "colab": {}
      },
      "source": [
        ""
      ],
      "execution_count": 0,
      "outputs": []
    },
    {
      "cell_type": "code",
      "metadata": {
        "id": "AD-KLYR7ew7E",
        "colab_type": "code",
        "outputId": "bc36f8a3-aba4-4c13-99f0-3d3164e44d44",
        "colab": {
          "base_uri": "https://localhost:8080/",
          "height": 122
        }
      },
      "source": [
        "from google.colab import drive\n",
        "drive.mount('/content/drive')"
      ],
      "execution_count": 0,
      "outputs": [
        {
          "output_type": "stream",
          "text": [
            "Go to this URL in a browser: https://accounts.google.com/o/oauth2/auth?client_id=947318989803-6bn6qk8qdgf4n4g3pfee6491hc0brc4i.apps.googleusercontent.com&redirect_uri=urn%3aietf%3awg%3aoauth%3a2.0%3aoob&response_type=code&scope=email%20https%3a%2f%2fwww.googleapis.com%2fauth%2fdocs.test%20https%3a%2f%2fwww.googleapis.com%2fauth%2fdrive%20https%3a%2f%2fwww.googleapis.com%2fauth%2fdrive.photos.readonly%20https%3a%2f%2fwww.googleapis.com%2fauth%2fpeopleapi.readonly\n",
            "\n",
            "Enter your authorization code:\n",
            "··········\n",
            "Mounted at /content/drive\n"
          ],
          "name": "stdout"
        }
      ]
    },
    {
      "cell_type": "code",
      "metadata": {
        "id": "V2-Wl5uyexU6",
        "colab_type": "code",
        "colab": {}
      },
      "source": [
        "import cv2"
      ],
      "execution_count": 0,
      "outputs": []
    },
    {
      "cell_type": "code",
      "metadata": {
        "id": "8MYqfQJAfepu",
        "colab_type": "code",
        "colab": {}
      },
      "source": [
        "img = cv2.imread()"
      ],
      "execution_count": 0,
      "outputs": []
    },
    {
      "cell_type": "code",
      "metadata": {
        "id": "JpCYXcPdfqre",
        "colab_type": "code",
        "colab": {}
      },
      "source": [
        "import numpy as np"
      ],
      "execution_count": 0,
      "outputs": []
    },
    {
      "cell_type": "code",
      "metadata": {
        "id": "Y7b1gTbUhQCf",
        "colab_type": "code",
        "colab": {
          "base_uri": "https://localhost:8080/",
          "height": 81
        },
        "outputId": "715bef04-abfc-4566-debb-e1dbe26224e4"
      },
      "source": [
        "from keras.models import Sequential\n",
        "from keras.layers import Conv2D\n",
        "from keras.layers import MaxPooling2D\n",
        "from keras.layers import Flatten\n",
        "from keras.layers import Dense\n",
        "from keras.layers import Dropout\n"
      ],
      "execution_count": 2,
      "outputs": [
        {
          "output_type": "stream",
          "text": [
            "Using TensorFlow backend.\n"
          ],
          "name": "stderr"
        },
        {
          "output_type": "display_data",
          "data": {
            "text/html": [
              "<p style=\"color: red;\">\n",
              "The default version of TensorFlow in Colab will soon switch to TensorFlow 2.x.<br>\n",
              "We recommend you <a href=\"https://www.tensorflow.org/guide/migrate\" target=\"_blank\">upgrade</a> now \n",
              "or ensure your notebook will continue to use TensorFlow 1.x via the <code>%tensorflow_version 1.x</code> magic:\n",
              "<a href=\"https://colab.research.google.com/notebooks/tensorflow_version.ipynb\" target=\"_blank\">more info</a>.</p>\n"
            ],
            "text/plain": [
              "<IPython.core.display.HTML object>"
            ]
          },
          "metadata": {
            "tags": []
          }
        }
      ]
    },
    {
      "cell_type": "code",
      "metadata": {
        "id": "gc5Z60eaiMpX",
        "colab_type": "code",
        "colab": {
          "base_uri": "https://localhost:8080/",
          "height": 72
        },
        "outputId": "bfc8b62c-755a-4bfa-b3f2-039e8c844bd1"
      },
      "source": [
        "classifier = Sequential()"
      ],
      "execution_count": 3,
      "outputs": [
        {
          "output_type": "stream",
          "text": [
            "WARNING:tensorflow:From /usr/local/lib/python3.6/dist-packages/keras/backend/tensorflow_backend.py:66: The name tf.get_default_graph is deprecated. Please use tf.compat.v1.get_default_graph instead.\n",
            "\n"
          ],
          "name": "stdout"
        }
      ]
    },
    {
      "cell_type": "code",
      "metadata": {
        "id": "46nk3EYmiQW-",
        "colab_type": "code",
        "colab": {
          "base_uri": "https://localhost:8080/",
          "height": 106
        },
        "outputId": "dfe844a3-bb92-49e7-e1ea-1fb1eb3e9c1b"
      },
      "source": [
        "classifier.add(Conv2D(64,(5,5),strides=1,input_shape= (32,96,1),activation = 'relu'))"
      ],
      "execution_count": 4,
      "outputs": [
        {
          "output_type": "stream",
          "text": [
            "WARNING:tensorflow:From /usr/local/lib/python3.6/dist-packages/keras/backend/tensorflow_backend.py:541: The name tf.placeholder is deprecated. Please use tf.compat.v1.placeholder instead.\n",
            "\n",
            "WARNING:tensorflow:From /usr/local/lib/python3.6/dist-packages/keras/backend/tensorflow_backend.py:4432: The name tf.random_uniform is deprecated. Please use tf.random.uniform instead.\n",
            "\n"
          ],
          "name": "stdout"
        }
      ]
    },
    {
      "cell_type": "code",
      "metadata": {
        "id": "SmKzjvOtkX4d",
        "colab_type": "code",
        "colab": {
          "base_uri": "https://localhost:8080/",
          "height": 72
        },
        "outputId": "a6003cfd-344c-4e6d-a578-ced52ced9ba4"
      },
      "source": [
        "classifier.add(MaxPooling2D(pool_size=(2,2),strides = 2))"
      ],
      "execution_count": 5,
      "outputs": [
        {
          "output_type": "stream",
          "text": [
            "WARNING:tensorflow:From /usr/local/lib/python3.6/dist-packages/keras/backend/tensorflow_backend.py:4267: The name tf.nn.max_pool is deprecated. Please use tf.nn.max_pool2d instead.\n",
            "\n"
          ],
          "name": "stdout"
        }
      ]
    },
    {
      "cell_type": "code",
      "metadata": {
        "id": "CsYBMuS1ks61",
        "colab_type": "code",
        "colab": {
          "base_uri": "https://localhost:8080/",
          "height": 124
        },
        "outputId": "395590f1-70a9-472e-93e0-b786636d8e68"
      },
      "source": [
        "classifier.add(Dropout(0.2))"
      ],
      "execution_count": 6,
      "outputs": [
        {
          "output_type": "stream",
          "text": [
            "WARNING:tensorflow:From /usr/local/lib/python3.6/dist-packages/keras/backend/tensorflow_backend.py:148: The name tf.placeholder_with_default is deprecated. Please use tf.compat.v1.placeholder_with_default instead.\n",
            "\n",
            "WARNING:tensorflow:From /usr/local/lib/python3.6/dist-packages/keras/backend/tensorflow_backend.py:3733: calling dropout (from tensorflow.python.ops.nn_ops) with keep_prob is deprecated and will be removed in a future version.\n",
            "Instructions for updating:\n",
            "Please use `rate` instead of `keep_prob`. Rate should be set to `rate = 1 - keep_prob`.\n"
          ],
          "name": "stdout"
        }
      ]
    },
    {
      "cell_type": "code",
      "metadata": {
        "id": "-xD-bJMGnGIE",
        "colab_type": "code",
        "colab": {}
      },
      "source": [
        "# 2nd convolution"
      ],
      "execution_count": 0,
      "outputs": []
    },
    {
      "cell_type": "code",
      "metadata": {
        "id": "PPJcyHHbqflD",
        "colab_type": "code",
        "colab": {}
      },
      "source": [
        "classifier.add(Conv2D(64,(3,3),strides=1,activation = 'relu'))\n",
        "classifier.add(MaxPooling2D(pool_size=(2,2),strides=2))\n",
        "classifier.add(Dropout(0.25))\n"
      ],
      "execution_count": 0,
      "outputs": []
    },
    {
      "cell_type": "markdown",
      "metadata": {
        "id": "LZxfToAJrRfQ",
        "colab_type": "text"
      },
      "source": [
        "3rd convolution"
      ]
    },
    {
      "cell_type": "code",
      "metadata": {
        "id": "AcO3YrB9rUw5",
        "colab_type": "code",
        "colab": {}
      },
      "source": [
        "classifier.add(Conv2D(48,(3,3),strides=1,activation = 'relu'))\n",
        "classifier.add(MaxPooling2D(pool_size=(2,2),strides=2))\n",
        "classifier.add(Dropout(0.25))"
      ],
      "execution_count": 0,
      "outputs": []
    },
    {
      "cell_type": "code",
      "metadata": {
        "id": "u3_6DU9cr7EX",
        "colab_type": "code",
        "colab": {}
      },
      "source": [
        "classifier.add(Flatten())"
      ],
      "execution_count": 0,
      "outputs": []
    },
    {
      "cell_type": "code",
      "metadata": {
        "id": "G0V6kCMguQsp",
        "colab_type": "code",
        "colab": {}
      },
      "source": [
        "#full connected"
      ],
      "execution_count": 0,
      "outputs": []
    },
    {
      "cell_type": "code",
      "metadata": {
        "id": "MMCo5MV1sY8T",
        "colab_type": "code",
        "colab": {}
      },
      "source": [
        "classifier.add(Dense(units=128,activation='relu'))\n",
        "classifier.add(Dropout(0.5))"
      ],
      "execution_count": 0,
      "outputs": []
    },
    {
      "cell_type": "code",
      "metadata": {
        "id": "Zk-AFpu_ttI5",
        "colab_type": "code",
        "colab": {}
      },
      "source": [
        "classifier.add(Dense(units=2,activation='softmax'))"
      ],
      "execution_count": 0,
      "outputs": []
    },
    {
      "cell_type": "code",
      "metadata": {
        "id": "im0mofjG39XM",
        "colab_type": "code",
        "colab": {}
      },
      "source": [
        "classifier1 = Sequential()"
      ],
      "execution_count": 0,
      "outputs": []
    },
    {
      "cell_type": "code",
      "metadata": {
        "id": "7UkgBGRA_XXh",
        "colab_type": "code",
        "colab": {}
      },
      "source": [
        "#ST layer\n",
        "classifier1.add(Conv2D(48,(5,5),strides = 1, input_shape=(32,96,1),activation = 'relu'))\n",
        "classifier1.add(MaxPooling2D(pool_size=(2,2),strides=2))\n",
        "\n",
        "classifier1.add(Conv2D(32,(5,5),strides = 1,activation = 'relu'))\n",
        "classifier1.add(MaxPooling2D(pool_size=(2,2),strides=2))\n",
        "\n",
        "classifier1.add(Dense(units = 50,activation = 'relu'))\n",
        "classifier1.add(Dense(units = 6))\n"
      ],
      "execution_count": 0,
      "outputs": []
    },
    {
      "cell_type": "code",
      "metadata": {
        "id": "da35qQiyBGol",
        "colab_type": "code",
        "colab": {}
      },
      "source": [
        "classifier1.add(Conv2D(128,(3,3),strides = 1,activation = 'relu'))\n",
        "\n",
        "classifier1.add(Dropout(0.25))"
      ],
      "execution_count": 0,
      "outputs": []
    },
    {
      "cell_type": "code",
      "metadata": {
        "id": "YejiZlz9B70X",
        "colab_type": "code",
        "colab": {}
      },
      "source": [
        ""
      ],
      "execution_count": 0,
      "outputs": []
    },
    {
      "cell_type": "code",
      "metadata": {
        "id": "YDJMAxmqBJYd",
        "colab_type": "code",
        "colab": {}
      },
      "source": [
        "classifier1.add(Conv2D(256,(2,2),strides=1,padding ='same',activation = 'relu'))\n",
        "classifier1.add(MaxPooling2D(pool_size=(2,2), strides = 2))\n",
        "classifier1.add(Dropout(0.25))"
      ],
      "execution_count": 0,
      "outputs": []
    },
    {
      "cell_type": "code",
      "metadata": {
        "id": "_rBgPGN_t8Ju",
        "colab_type": "code",
        "colab": {}
      },
      "source": [
        "\n",
        "\n",
        "\n",
        "\n",
        "\n",
        "\n",
        "\n",
        "\n",
        "\n",
        "#fully connected\n",
        "classifier1.add(Dense(units = 1024 , activation = 'relu'))\n",
        "classifier1.add(Dense(units =37 ,activation = 'softmax'))\n",
        "classifier1.add(Dense(units =37 ,activation = 'softmax'))\n",
        "classifier1.add(Dense(units =37 ,activation = 'softmax'))\n",
        "classifier1.add(Dense(units =37 ,activation = 'softmax'))\n",
        "classifier1.add(Dense(units =37 ,activation = 'softmax'))\n",
        "classifier1.add(Dense(units =37 ,activation = 'softmax'))\n",
        "classifier1.add(Dense(units =37 ,activation = 'softmax'))\n",
        "classifier1.add(Dense(units =37 ,activation = 'softmax'))\n",
        "classifier1.add(Dense(units =37 ,activation = 'softmax'))\n",
        "classifier1.add(Dense(units =37 ,activation = 'softmax'))\n",
        "classifier1.add(Dense(units =37 ,activation = 'softmax'))\n",
        "\n",
        "\n",
        "\n",
        "\n"
      ],
      "execution_count": 0,
      "outputs": []
    },
    {
      "cell_type": "code",
      "metadata": {
        "id": "6FGpAmgA3k7w",
        "colab_type": "code",
        "colab": {}
      },
      "source": [
        ""
      ],
      "execution_count": 0,
      "outputs": []
    }
  ]
}